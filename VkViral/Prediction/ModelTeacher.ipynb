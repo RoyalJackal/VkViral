{
 "cells": [
  {
   "cell_type": "code",
   "execution_count": 2,
   "metadata": {},
   "outputs": [
    {
     "name": "stderr",
     "output_type": "stream",
     "text": [
      "[nltk_data] Downloading package stopwords to\n",
      "[nltk_data]     C:\\Users\\dimao\\AppData\\Roaming\\nltk_data...\n",
      "[nltk_data]   Package stopwords is already up-to-date!\n"
     ]
    },
    {
     "data": {
      "text/plain": [
       "True"
      ]
     },
     "execution_count": 2,
     "metadata": {},
     "output_type": "execute_result"
    }
   ],
   "source": [
    "from sklearn.feature_extraction.text import CountVectorizer\n",
    "import pandas as pd\n",
    "import nltk\n",
    "import matplotlib.pyplot as plt\n",
    "import numpy as np\n",
    "import json\n",
    "from sklearn.ensemble import RandomForestRegressor\n",
    "from xgboost.sklearn import XGBRegressor\n",
    "from catboost import CatBoostRegressor\n",
    "from sklearn.svm import SVR\n",
    "from sklearn.neural_network import MLPRegressor\n",
    "%matplotlib inline\n",
    "nltk.download('stopwords')"
   ]
  },
  {
   "cell_type": "markdown",
   "metadata": {},
   "source": [
    "Считывание из файла"
   ]
  },
  {
   "cell_type": "code",
   "execution_count": 15,
   "metadata": {},
   "outputs": [],
   "source": [
    "with open('data.json', 'r') as file:\n",
    "    data2 = json.load(file)\n",
    "\n",
    "data2['colour'] = list(map(lambda x: [0, 0, 0] if x == None else x, data2['colour']))\n",
    "data2['text'] = list(map(lambda x: ' '.join(x), data2['text']))"
   ]
  },
  {
   "cell_type": "code",
   "execution_count": 17,
   "metadata": {},
   "outputs": [],
   "source": [
    "train_index = []\n",
    "test_index = []\n",
    "loaded_data = pd.DataFrame(data2)\n",
    "colours = pd.DataFrame(list(loaded_data['colour']), columns=[\"red\", \"green\", 'blue'])\n",
    "vectorizer = CountVectorizer(ngram_range=(1,1))\n",
    "vectorized_texts = vectorizer.fit_transform(data2['text'])\n",
    "vocabulary = list(map(lambda x: 'word_' + x, vectorizer.get_feature_names_out()))\n",
    "\n",
    "for i in loaded_data.index:\n",
    "    result = np.random.choice(2, p=[.65,.35])\n",
    "    if result == 1:\n",
    "        test_index.append(i)\n",
    "    else:\n",
    "        train_index.append(i)\n",
    "\n",
    "y_train = loaded_data.iloc[train_index]['virality'].astype(int)\n",
    "x_train = loaded_data.iloc[train_index][['photo', 'video', 'audio', 'words']]\n",
    "x_train = pd.merge(x_train, pd.DataFrame(vectorized_texts[train_index].toarray(), index=x_train.index, columns=vocabulary), left_index=True, right_index=True)\n",
    "x_train = pd.merge(x_train, colours, left_index=True, right_index=True)\n",
    "\n",
    "y_test = loaded_data.iloc[test_index]['virality'].astype(int)\n",
    "x_test = loaded_data.iloc[test_index][['photo', 'video', 'audio', 'words']]\n",
    "x_test = pd.merge(x_test, pd.DataFrame(vectorized_texts[test_index].toarray(), index=x_test.index, columns=vocabulary), left_index=True, right_index=True)\n",
    "x_test = pd.merge(x_test, colours, left_index=True, right_index=True)\n",
    "\n",
    "x_train\n",
    "y_actual = y_test"
   ]
  },
  {
   "cell_type": "code",
   "execution_count": null,
   "metadata": {},
   "outputs": [
    {
     "data": {
      "text/html": [
       "<div>\n",
       "<style scoped>\n",
       "    .dataframe tbody tr th:only-of-type {\n",
       "        vertical-align: middle;\n",
       "    }\n",
       "\n",
       "    .dataframe tbody tr th {\n",
       "        vertical-align: top;\n",
       "    }\n",
       "\n",
       "    .dataframe thead th {\n",
       "        text-align: right;\n",
       "    }\n",
       "</style>\n",
       "<table border=\"1\" class=\"dataframe\">\n",
       "  <thead>\n",
       "    <tr style=\"text-align: right;\">\n",
       "      <th></th>\n",
       "      <th>photo</th>\n",
       "      <th>video</th>\n",
       "      <th>audio</th>\n",
       "      <th>words</th>\n",
       "      <th>word_aa</th>\n",
       "      <th>word_aao</th>\n",
       "      <th>word_ab</th>\n",
       "      <th>word_abc</th>\n",
       "      <th>word_abola</th>\n",
       "      <th>word_abwauy</th>\n",
       "      <th>...</th>\n",
       "      <th>word_ясно</th>\n",
       "      <th>word_ясным</th>\n",
       "      <th>word_яхте</th>\n",
       "      <th>word_ячмень</th>\n",
       "      <th>word_ячменя</th>\n",
       "      <th>word_ящик</th>\n",
       "      <th>word_ящикoв</th>\n",
       "      <th>red</th>\n",
       "      <th>green</th>\n",
       "      <th>blue</th>\n",
       "    </tr>\n",
       "  </thead>\n",
       "  <tbody>\n",
       "    <tr>\n",
       "      <th>0</th>\n",
       "      <td>3</td>\n",
       "      <td>1</td>\n",
       "      <td>0</td>\n",
       "      <td>30</td>\n",
       "      <td>0</td>\n",
       "      <td>0</td>\n",
       "      <td>0</td>\n",
       "      <td>0</td>\n",
       "      <td>0</td>\n",
       "      <td>0</td>\n",
       "      <td>...</td>\n",
       "      <td>0</td>\n",
       "      <td>0</td>\n",
       "      <td>0</td>\n",
       "      <td>0</td>\n",
       "      <td>0</td>\n",
       "      <td>0</td>\n",
       "      <td>0</td>\n",
       "      <td>135.270697</td>\n",
       "      <td>135.641027</td>\n",
       "      <td>141.126871</td>\n",
       "    </tr>\n",
       "    <tr>\n",
       "      <th>1</th>\n",
       "      <td>1</td>\n",
       "      <td>3</td>\n",
       "      <td>0</td>\n",
       "      <td>5</td>\n",
       "      <td>0</td>\n",
       "      <td>0</td>\n",
       "      <td>0</td>\n",
       "      <td>0</td>\n",
       "      <td>0</td>\n",
       "      <td>0</td>\n",
       "      <td>...</td>\n",
       "      <td>0</td>\n",
       "      <td>0</td>\n",
       "      <td>0</td>\n",
       "      <td>0</td>\n",
       "      <td>0</td>\n",
       "      <td>0</td>\n",
       "      <td>0</td>\n",
       "      <td>119.864314</td>\n",
       "      <td>94.665178</td>\n",
       "      <td>77.405878</td>\n",
       "    </tr>\n",
       "    <tr>\n",
       "      <th>3</th>\n",
       "      <td>2</td>\n",
       "      <td>2</td>\n",
       "      <td>0</td>\n",
       "      <td>84</td>\n",
       "      <td>0</td>\n",
       "      <td>0</td>\n",
       "      <td>0</td>\n",
       "      <td>0</td>\n",
       "      <td>0</td>\n",
       "      <td>0</td>\n",
       "      <td>...</td>\n",
       "      <td>0</td>\n",
       "      <td>0</td>\n",
       "      <td>0</td>\n",
       "      <td>0</td>\n",
       "      <td>0</td>\n",
       "      <td>0</td>\n",
       "      <td>0</td>\n",
       "      <td>104.787349</td>\n",
       "      <td>81.677017</td>\n",
       "      <td>56.275102</td>\n",
       "    </tr>\n",
       "    <tr>\n",
       "      <th>4</th>\n",
       "      <td>3</td>\n",
       "      <td>0</td>\n",
       "      <td>0</td>\n",
       "      <td>34</td>\n",
       "      <td>0</td>\n",
       "      <td>0</td>\n",
       "      <td>0</td>\n",
       "      <td>0</td>\n",
       "      <td>0</td>\n",
       "      <td>0</td>\n",
       "      <td>...</td>\n",
       "      <td>0</td>\n",
       "      <td>0</td>\n",
       "      <td>0</td>\n",
       "      <td>0</td>\n",
       "      <td>0</td>\n",
       "      <td>0</td>\n",
       "      <td>0</td>\n",
       "      <td>122.265034</td>\n",
       "      <td>106.368080</td>\n",
       "      <td>111.867143</td>\n",
       "    </tr>\n",
       "    <tr>\n",
       "      <th>6</th>\n",
       "      <td>0</td>\n",
       "      <td>1</td>\n",
       "      <td>0</td>\n",
       "      <td>51</td>\n",
       "      <td>0</td>\n",
       "      <td>0</td>\n",
       "      <td>0</td>\n",
       "      <td>0</td>\n",
       "      <td>0</td>\n",
       "      <td>0</td>\n",
       "      <td>...</td>\n",
       "      <td>0</td>\n",
       "      <td>0</td>\n",
       "      <td>0</td>\n",
       "      <td>0</td>\n",
       "      <td>0</td>\n",
       "      <td>0</td>\n",
       "      <td>0</td>\n",
       "      <td>0.000000</td>\n",
       "      <td>0.000000</td>\n",
       "      <td>0.000000</td>\n",
       "    </tr>\n",
       "    <tr>\n",
       "      <th>...</th>\n",
       "      <td>...</td>\n",
       "      <td>...</td>\n",
       "      <td>...</td>\n",
       "      <td>...</td>\n",
       "      <td>...</td>\n",
       "      <td>...</td>\n",
       "      <td>...</td>\n",
       "      <td>...</td>\n",
       "      <td>...</td>\n",
       "      <td>...</td>\n",
       "      <td>...</td>\n",
       "      <td>...</td>\n",
       "      <td>...</td>\n",
       "      <td>...</td>\n",
       "      <td>...</td>\n",
       "      <td>...</td>\n",
       "      <td>...</td>\n",
       "      <td>...</td>\n",
       "      <td>...</td>\n",
       "      <td>...</td>\n",
       "      <td>...</td>\n",
       "    </tr>\n",
       "    <tr>\n",
       "      <th>9989</th>\n",
       "      <td>1</td>\n",
       "      <td>0</td>\n",
       "      <td>0</td>\n",
       "      <td>10</td>\n",
       "      <td>0</td>\n",
       "      <td>0</td>\n",
       "      <td>0</td>\n",
       "      <td>0</td>\n",
       "      <td>0</td>\n",
       "      <td>0</td>\n",
       "      <td>...</td>\n",
       "      <td>0</td>\n",
       "      <td>0</td>\n",
       "      <td>0</td>\n",
       "      <td>0</td>\n",
       "      <td>0</td>\n",
       "      <td>0</td>\n",
       "      <td>0</td>\n",
       "      <td>98.508189</td>\n",
       "      <td>70.928720</td>\n",
       "      <td>70.573112</td>\n",
       "    </tr>\n",
       "    <tr>\n",
       "      <th>9992</th>\n",
       "      <td>1</td>\n",
       "      <td>0</td>\n",
       "      <td>0</td>\n",
       "      <td>0</td>\n",
       "      <td>0</td>\n",
       "      <td>0</td>\n",
       "      <td>0</td>\n",
       "      <td>0</td>\n",
       "      <td>0</td>\n",
       "      <td>0</td>\n",
       "      <td>...</td>\n",
       "      <td>0</td>\n",
       "      <td>0</td>\n",
       "      <td>0</td>\n",
       "      <td>0</td>\n",
       "      <td>0</td>\n",
       "      <td>0</td>\n",
       "      <td>0</td>\n",
       "      <td>112.452995</td>\n",
       "      <td>125.114325</td>\n",
       "      <td>99.990411</td>\n",
       "    </tr>\n",
       "    <tr>\n",
       "      <th>9995</th>\n",
       "      <td>1</td>\n",
       "      <td>0</td>\n",
       "      <td>0</td>\n",
       "      <td>0</td>\n",
       "      <td>0</td>\n",
       "      <td>0</td>\n",
       "      <td>0</td>\n",
       "      <td>0</td>\n",
       "      <td>0</td>\n",
       "      <td>0</td>\n",
       "      <td>...</td>\n",
       "      <td>0</td>\n",
       "      <td>0</td>\n",
       "      <td>0</td>\n",
       "      <td>0</td>\n",
       "      <td>0</td>\n",
       "      <td>0</td>\n",
       "      <td>0</td>\n",
       "      <td>68.268220</td>\n",
       "      <td>39.194006</td>\n",
       "      <td>47.581326</td>\n",
       "    </tr>\n",
       "    <tr>\n",
       "      <th>9996</th>\n",
       "      <td>0</td>\n",
       "      <td>1</td>\n",
       "      <td>0</td>\n",
       "      <td>0</td>\n",
       "      <td>0</td>\n",
       "      <td>0</td>\n",
       "      <td>0</td>\n",
       "      <td>0</td>\n",
       "      <td>0</td>\n",
       "      <td>0</td>\n",
       "      <td>...</td>\n",
       "      <td>0</td>\n",
       "      <td>0</td>\n",
       "      <td>0</td>\n",
       "      <td>0</td>\n",
       "      <td>0</td>\n",
       "      <td>0</td>\n",
       "      <td>0</td>\n",
       "      <td>0.000000</td>\n",
       "      <td>0.000000</td>\n",
       "      <td>0.000000</td>\n",
       "    </tr>\n",
       "    <tr>\n",
       "      <th>9997</th>\n",
       "      <td>1</td>\n",
       "      <td>0</td>\n",
       "      <td>0</td>\n",
       "      <td>46</td>\n",
       "      <td>0</td>\n",
       "      <td>0</td>\n",
       "      <td>0</td>\n",
       "      <td>0</td>\n",
       "      <td>0</td>\n",
       "      <td>0</td>\n",
       "      <td>...</td>\n",
       "      <td>0</td>\n",
       "      <td>0</td>\n",
       "      <td>0</td>\n",
       "      <td>0</td>\n",
       "      <td>0</td>\n",
       "      <td>0</td>\n",
       "      <td>0</td>\n",
       "      <td>151.466101</td>\n",
       "      <td>147.361494</td>\n",
       "      <td>141.190294</td>\n",
       "    </tr>\n",
       "  </tbody>\n",
       "</table>\n",
       "<p>6521 rows × 35355 columns</p>\n",
       "</div>"
      ],
      "text/plain": [
       "      photo  video  audio  words  word_aa  word_aao  word_ab  word_abc  \\\n",
       "0         3      1      0     30        0         0        0         0   \n",
       "1         1      3      0      5        0         0        0         0   \n",
       "3         2      2      0     84        0         0        0         0   \n",
       "4         3      0      0     34        0         0        0         0   \n",
       "6         0      1      0     51        0         0        0         0   \n",
       "...     ...    ...    ...    ...      ...       ...      ...       ...   \n",
       "9989      1      0      0     10        0         0        0         0   \n",
       "9992      1      0      0      0        0         0        0         0   \n",
       "9995      1      0      0      0        0         0        0         0   \n",
       "9996      0      1      0      0        0         0        0         0   \n",
       "9997      1      0      0     46        0         0        0         0   \n",
       "\n",
       "      word_abola  word_abwauy  ...  word_ясно  word_ясным  word_яхте  \\\n",
       "0              0            0  ...          0           0          0   \n",
       "1              0            0  ...          0           0          0   \n",
       "3              0            0  ...          0           0          0   \n",
       "4              0            0  ...          0           0          0   \n",
       "6              0            0  ...          0           0          0   \n",
       "...          ...          ...  ...        ...         ...        ...   \n",
       "9989           0            0  ...          0           0          0   \n",
       "9992           0            0  ...          0           0          0   \n",
       "9995           0            0  ...          0           0          0   \n",
       "9996           0            0  ...          0           0          0   \n",
       "9997           0            0  ...          0           0          0   \n",
       "\n",
       "      word_ячмень  word_ячменя  word_ящик  word_ящикoв         red  \\\n",
       "0               0            0          0            0  135.270697   \n",
       "1               0            0          0            0  119.864314   \n",
       "3               0            0          0            0  104.787349   \n",
       "4               0            0          0            0  122.265034   \n",
       "6               0            0          0            0    0.000000   \n",
       "...           ...          ...        ...          ...         ...   \n",
       "9989            0            0          0            0   98.508189   \n",
       "9992            0            0          0            0  112.452995   \n",
       "9995            0            0          0            0   68.268220   \n",
       "9996            0            0          0            0    0.000000   \n",
       "9997            0            0          0            0  151.466101   \n",
       "\n",
       "           green        blue  \n",
       "0     135.641027  141.126871  \n",
       "1      94.665178   77.405878  \n",
       "3      81.677017   56.275102  \n",
       "4     106.368080  111.867143  \n",
       "6       0.000000    0.000000  \n",
       "...          ...         ...  \n",
       "9989   70.928720   70.573112  \n",
       "9992  125.114325   99.990411  \n",
       "9995   39.194006   47.581326  \n",
       "9996    0.000000    0.000000  \n",
       "9997  147.361494  141.190294  \n",
       "\n",
       "[6521 rows x 35355 columns]"
      ]
     },
     "execution_count": 5,
     "metadata": {},
     "output_type": "execute_result"
    }
   ],
   "source": [
    "x_train"
   ]
  },
  {
   "cell_type": "markdown",
   "metadata": {},
   "source": [
    "Random forest"
   ]
  },
  {
   "cell_type": "code",
   "execution_count": null,
   "metadata": {},
   "outputs": [
    {
     "name": "stderr",
     "output_type": "stream",
     "text": [
      "c:\\Users\\dimao\\AppData\\Local\\Programs\\Python\\Python310\\lib\\site-packages\\sklearn\\utils\\validation.py:1688: FutureWarning: Feature names only support names that are all strings. Got feature names with dtypes: ['int', 'str']. An error will be raised in 1.2.\n",
      "  warnings.warn(\n",
      "[Parallel(n_jobs=1)]: Using backend SequentialBackend with 1 concurrent workers.\n",
      "[Parallel(n_jobs=1)]: Done 1000 out of 1000 | elapsed: 15.7min finished\n"
     ]
    },
    {
     "data": {
      "text/plain": [
       "RandomForestRegressor(n_estimators=1000, verbose=True)"
      ]
     },
     "execution_count": 27,
     "metadata": {},
     "output_type": "execute_result"
    }
   ],
   "source": [
    "#rf = RandomForestRegressor(n_estimators=1000, verbose=True)\n",
    "#rf.fit(x_train, y_train)"
   ]
  },
  {
   "cell_type": "code",
   "execution_count": null,
   "metadata": {},
   "outputs": [],
   "source": [
    "#rf_y_pred = rf.predict(x_test)\n",
    "\n",
    "#rf_deltas = pd.DataFrame(list(zip(rf_y_pred, y_actual, (rf_y_pred -\n",
    "#y_actual)/(y_actual))), columns=['predicted', 'actual', 'delta'])"
   ]
  },
  {
   "cell_type": "markdown",
   "metadata": {},
   "source": [
    "XGBoost"
   ]
  },
  {
   "cell_type": "code",
   "execution_count": null,
   "metadata": {},
   "outputs": [],
   "source": [
    "#xgb = XGBRegressor()\n",
    "#xgb.fit(x_train, y_train)"
   ]
  },
  {
   "cell_type": "code",
   "execution_count": null,
   "metadata": {},
   "outputs": [],
   "source": [
    "#xgb_y_pred = xgb.predict(x_test)\n",
    "\n",
    "#xgb_deltas = pd.DataFrame(list(zip(xgb_y_pred, y_actual, (xgb_y_pred -\n",
    "#y_actual)/(y_actual))), columns=['predicted', 'actual', 'delta'])"
   ]
  },
  {
   "cell_type": "markdown",
   "metadata": {},
   "source": [
    "CatBoost"
   ]
  },
  {
   "cell_type": "code",
   "execution_count": 11,
   "metadata": {},
   "outputs": [
    {
     "data": {
      "text/plain": [
       "<catboost.core.CatBoostRegressor at 0x2283cc2bfd0>"
      ]
     },
     "execution_count": 11,
     "metadata": {},
     "output_type": "execute_result"
    }
   ],
   "source": [
    "cb = CatBoostRegressor()\n",
    "cb.fit(x_train, y_train, verbose=False)"
   ]
  },
  {
   "cell_type": "code",
   "execution_count": 18,
   "metadata": {},
   "outputs": [],
   "source": [
    "cb_y_pred = cb.predict(x_test)\n",
    "\n",
    "cb_deltas = pd.DataFrame(list(zip(cb_y_pred, y_actual, (cb_y_pred -\n",
    "y_actual)/(y_actual))), columns=['predicted', 'actual', 'delta'])\n"
   ]
  },
  {
   "cell_type": "markdown",
   "metadata": {},
   "source": [
    "SVR"
   ]
  },
  {
   "cell_type": "code",
   "execution_count": null,
   "metadata": {},
   "outputs": [],
   "source": [
    "#svr = SVR()\n",
    "#svr.fit(x_train, y_train)"
   ]
  },
  {
   "cell_type": "code",
   "execution_count": null,
   "metadata": {},
   "outputs": [],
   "source": [
    "#svr_y_pred = svr.predict(x_test)\n",
    "\n",
    "#svr_deltas = pd.DataFrame(list(zip(svr_y_pred, y_actual, (svr_y_pred -\n",
    "#y_actual)/(y_actual))), columns=['predicted', 'actual', 'delta'])"
   ]
  },
  {
   "cell_type": "markdown",
   "metadata": {},
   "source": [
    "MPL"
   ]
  },
  {
   "cell_type": "code",
   "execution_count": null,
   "metadata": {},
   "outputs": [],
   "source": [
    "#mpl = MLPRegressor()\n",
    "#mpl.fit(x_train, y_train)"
   ]
  },
  {
   "cell_type": "code",
   "execution_count": null,
   "metadata": {},
   "outputs": [],
   "source": [
    "#mpl_y_pred = mpl.predict(x_test)\n",
    "\n",
    "#mpl_deltas = pd.DataFrame(list(zip(mpl_y_pred, y_actual, (mpl_y_pred -\n",
    "#y_actual)/(y_actual))), columns=['predicted', 'actual', 'delta'])"
   ]
  },
  {
   "cell_type": "markdown",
   "metadata": {},
   "source": [
    "Вывод"
   ]
  },
  {
   "cell_type": "code",
   "execution_count": 19,
   "metadata": {},
   "outputs": [
    {
     "name": "stdout",
     "output_type": "stream",
     "text": [
      "CatBoost = 1.484229740191947\n"
     ]
    }
   ],
   "source": [
    "#print(f\"Random forest = {np.sqrt(np.mean((rf_y_pred-y_actual)**2))/np.mean(y_actual)}\")\n",
    "#print(f\"XGBoost = {np.sqrt(np.mean((xgb_y_pred-y_actual)**2))/np.mean(y_actual)}\")\n",
    "print(f\"CatBoost = {np.sqrt(np.mean((cb_y_pred-y_actual)**2))/np.mean(y_actual)}\")\n",
    "#print(f\"SVR = {np.sqrt(np.mean((svr_y_pred-y_actual)**2))/np.mean(y_actual)}\")\n",
    "#print(f\"MPL = {np.sqrt(np.mean((mpl_y_pred-y_actual)**2))/np.mean(y_actual)}\")"
   ]
  },
  {
   "cell_type": "markdown",
   "metadata": {},
   "source": [
    "График"
   ]
  },
  {
   "cell_type": "code",
   "execution_count": 33,
   "metadata": {},
   "outputs": [
    {
     "data": {
      "text/plain": [
       "<AxesSubplot:>"
      ]
     },
     "execution_count": 33,
     "metadata": {},
     "output_type": "execute_result"
    },
    {
     "data": {
      "image/png": "[encoded data removed]",
      "text/plain": [
       "<Figure size 1152x576 with 1 Axes>"
      ]
     },
     "metadata": {
      "needs_background": "light"
     },
     "output_type": "display_data"
    }
   ],
   "source": [
    "cb_deltas[['predicted','actual']].iloc[:100,:].plot(kind='bar', figsize=(16,8))"
   ]
  },
  {
   "cell_type": "markdown",
   "metadata": {},
   "source": [
    "Выгрузка"
   ]
  },
  {
   "cell_type": "code",
   "execution_count": null,
   "metadata": {},
   "outputs": [],
   "source": [
    "cb.save_model(\"model\")"
   ]
  }
 ],
 "metadata": {
  "interpreter": {
   "hash": "369f2c481f4da34e4445cda3fffd2e751bd1c4d706f27375911949ba6bb62e1c"
  },
  "kernelspec": {
   "display_name": "Python 3.10.4 64-bit",
   "language": "python",
   "name": "python3"
  },
  "language_info": {
   "codemirror_mode": {
    "name": "ipython",
    "version": 3
   },
   "file_extension": ".py",
   "mimetype": "text/x-python",
   "name": "python",
   "nbconvert_exporter": "python",
   "pygments_lexer": "ipython3",
   "version": "3.10.4"
  },
  "orig_nbformat": 4
 },
 "nbformat": 4,
 "nbformat_minor": 2
}
