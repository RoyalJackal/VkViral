{
 "cells": [
  {
   "cell_type": "code",
   "execution_count": null,
   "metadata": {},
   "outputs": [],
   "source": [
    "from sklearn.feature_extraction.text import CountVectorizer\n",
    "import pandas as pd\n",
    "import nltk\n",
    "import numpy as np\n",
    "from IPython.display import clear_output\n",
    "import json\n",
    "from sklearn.ensemble import RandomForestRegressor\n",
    "from xgboost.sklearn import XGBRegressor\n",
    "from catboost import CatBoostRegressor\n",
    "from sklearn.svm import SVR\n",
    "from sklearn.neural_network import MLPRegressor\n",
    "%matplotlib inline\n",
    "nltk.download('stopwords')"
   ]
  },
  {
   "cell_type": "markdown",
   "metadata": {},
   "source": [
    "Считывание из файла"
   ]
  },
  {
   "cell_type": "code",
   "execution_count": 19,
   "metadata": {},
   "outputs": [],
   "source": [
    "with open('data10000.json', 'r') as file:\n",
    "    data2 = json.load(file)\n",
    "\n",
    "data2['colour'] = list(map(lambda x: [0, 0, 0] if x == None else x, data2['colour']))\n",
    "data2['text'] = list(map(lambda x: ' '.join(x), data2['text']))"
   ]
  },
  {
   "cell_type": "code",
   "execution_count": null,
   "metadata": {},
   "outputs": [],
   "source": [
    "train_index = []\n",
    "test_index = []\n",
    "loaded_data = pd.DataFrame(data2)\n",
    "colours = pd.DataFrame(list(loaded_data['colour']), columns=[\"red\", \"green\", 'blue'])\n",
    "vectorizer = CountVectorizer(ngram_range=(1,1))\n",
    "vectorized_texts = vectorizer.fit_transform(data2['text'])\n",
    "vocabulary = list(map(lambda x: 'word_' + x, vectorizer.get_feature_names_out()))\n",
    "\n",
    "for i in loaded_data.index:\n",
    "    result = np.random.choice(2, p=[.65,.35])\n",
    "    if result == 1:\n",
    "        test_index.append(i)\n",
    "    else:\n",
    "        train_index.append(i)\n",
    "\n",
    "y_train = loaded_data.iloc[train_index]['virality'].astype(int)\n",
    "x_train = loaded_data.iloc[train_index][['photo', 'video', 'audio', 'words']]\n",
    "x_train = pd.merge(x_train, pd.DataFrame(vectorized_texts[train_index].toarray(), index=x_train.index, columns=vocabulary), left_index=True, right_index=True)\n",
    "x_train = pd.merge(x_train, colours, left_index=True, right_index=True)\n",
    "\n",
    "y_test = loaded_data.iloc[test_index]['virality'].astype(int)\n",
    "x_test = loaded_data.iloc[test_index][['photo', 'video', 'audio', 'words']]\n",
    "x_test = pd.merge(x_test, pd.DataFrame(vectorized_texts[test_index].toarray(), index=x_test.index, columns=vocabulary), left_index=True, right_index=True)\n",
    "x_test = pd.merge(x_test, colours, left_index=True, right_index=True)\n",
    "\n",
    "x_train\n",
    "y_actual = y_test"
   ]
  },
  {
   "cell_type": "code",
   "execution_count": null,
   "metadata": {},
   "outputs": [],
   "source": [
    "x_train"
   ]
  },
  {
   "cell_type": "markdown",
   "metadata": {},
   "source": [
    "Random forest"
   ]
  },
  {
   "cell_type": "code",
   "execution_count": null,
   "metadata": {},
   "outputs": [],
   "source": [
    "#rf = RandomForestRegressor(n_estimators=1000, verbose=True)\n",
    "#rf.fit(x_train, y_train)"
   ]
  },
  {
   "cell_type": "code",
   "execution_count": null,
   "metadata": {},
   "outputs": [],
   "source": [
    "#rf_y_pred = rf.predict(x_test)\n",
    "\n",
    "#rf_deltas = pd.DataFrame(list(zip(rf_y_pred, y_actual, (rf_y_pred -\n",
    "#y_actual)/(y_actual))), columns=['predicted', 'actual', 'delta'])"
   ]
  },
  {
   "cell_type": "markdown",
   "metadata": {},
   "source": [
    "XGBoost"
   ]
  },
  {
   "cell_type": "code",
   "execution_count": null,
   "metadata": {},
   "outputs": [],
   "source": [
    "#xgb = XGBRegressor()\n",
    "#xgb.fit(x_train, y_train)"
   ]
  },
  {
   "cell_type": "code",
   "execution_count": null,
   "metadata": {},
   "outputs": [],
   "source": [
    "#xgb_y_pred = xgb.predict(x_test)\n",
    "\n",
    "#xgb_deltas = pd.DataFrame(list(zip(xgb_y_pred, y_actual, (xgb_y_pred -\n",
    "#y_actual)/(y_actual))), columns=['predicted', 'actual', 'delta'])"
   ]
  },
  {
   "cell_type": "markdown",
   "metadata": {},
   "source": [
    "CatBoost"
   ]
  },
  {
   "cell_type": "code",
   "execution_count": null,
   "metadata": {},
   "outputs": [
    {
     "data": {
      "text/plain": [
       "<catboost.core.CatBoostRegressor at 0x18c585dd3c0>"
      ]
     },
     "execution_count": 9,
     "metadata": {},
     "output_type": "execute_result"
    }
   ],
   "source": [
    "cb = CatBoostRegressor()\n",
    "cb.fit(x_train, y_train, verbose=False)"
   ]
  },
  {
   "cell_type": "code",
   "execution_count": null,
   "metadata": {},
   "outputs": [],
   "source": [
    "cb_y_pred = cb.predict(x_test)\n",
    "\n",
    "cb_deltas = pd.DataFrame(list(zip(cb_y_pred, y_actual, (cb_y_pred -\n",
    "y_actual)/(y_actual))), columns=['predicted', 'actual', 'delta'])\n"
   ]
  },
  {
   "cell_type": "markdown",
   "metadata": {},
   "source": [
    "SVR"
   ]
  },
  {
   "cell_type": "code",
   "execution_count": null,
   "metadata": {},
   "outputs": [],
   "source": [
    "#svr = SVR()\n",
    "#svr.fit(x_train, y_train)"
   ]
  },
  {
   "cell_type": "code",
   "execution_count": null,
   "metadata": {},
   "outputs": [],
   "source": [
    "#svr_y_pred = svr.predict(x_test)\n",
    "\n",
    "#svr_deltas = pd.DataFrame(list(zip(svr_y_pred, y_actual, (svr_y_pred -\n",
    "#y_actual)/(y_actual))), columns=['predicted', 'actual', 'delta'])"
   ]
  },
  {
   "cell_type": "markdown",
   "metadata": {},
   "source": [
    "MPL"
   ]
  },
  {
   "cell_type": "code",
   "execution_count": null,
   "metadata": {},
   "outputs": [],
   "source": [
    "#mpl = MLPRegressor()\n",
    "#mpl.fit(x_train, y_train)"
   ]
  },
  {
   "cell_type": "code",
   "execution_count": null,
   "metadata": {},
   "outputs": [],
   "source": [
    "#mpl_y_pred = mpl.predict(x_test)\n",
    "\n",
    "#mpl_deltas = pd.DataFrame(list(zip(mpl_y_pred, y_actual, (mpl_y_pred -\n",
    "#y_actual)/(y_actual))), columns=['predicted', 'actual', 'delta'])"
   ]
  },
  {
   "cell_type": "markdown",
   "metadata": {},
   "source": [
    "Вывод"
   ]
  },
  {
   "cell_type": "code",
   "execution_count": null,
   "metadata": {},
   "outputs": [],
   "source": [
    "#print(f\"Random forest = {np.sqrt(np.mean((rf_y_pred-y_actual)**2))/np.mean(y_actual)}\")\n",
    "#print(f\"XGBoost = {np.sqrt(np.mean((xgb_y_pred-y_actual)**2))/np.mean(y_actual)}\")\n",
    "print(f\"CatBoost = {np.sqrt(np.mean((cb_y_pred-y_actual)**2))/np.mean(y_actual)}\")\n",
    "#print(f\"SVR = {np.sqrt(np.mean((svr_y_pred-y_actual)**2))/np.mean(y_actual)}\")\n",
    "#print(f\"MPL = {np.sqrt(np.mean((mpl_y_pred-y_actual)**2))/np.mean(y_actual)}\")"
   ]
  },
  {
   "cell_type": "markdown",
   "metadata": {},
   "source": [
    "График"
   ]
  },
  {
   "cell_type": "code",
   "execution_count": null,
   "metadata": {},
   "outputs": [],
   "source": [
    "cb_deltas[['predicted','actual']].iloc[:30,:].plot(kind='bar', figsize=(16,8))"
   ]
  },
  {
   "cell_type": "markdown",
   "metadata": {},
   "source": [
    "Выгрузка"
   ]
  },
  {
   "cell_type": "code",
   "execution_count": null,
   "metadata": {},
   "outputs": [],
   "source": [
    "cb.save_model(\"model\")"
   ]
  }
 ],
 "metadata": {
  "interpreter": {
   "hash": "369f2c481f4da34e4445cda3fffd2e751bd1c4d706f27375911949ba6bb62e1c"
  },
  "kernelspec": {
   "display_name": "Python 3.10.4 64-bit",
   "language": "python",
   "name": "python3"
  },
  "language_info": {
   "codemirror_mode": {
    "name": "ipython",
    "version": 3
   },
   "file_extension": ".py",
   "mimetype": "text/x-python",
   "name": "python",
   "nbconvert_exporter": "python",
   "pygments_lexer": "ipython3",
   "version": "3.10.4"
  },
  "orig_nbformat": 4
 },
 "nbformat": 4,
 "nbformat_minor": 2
}
